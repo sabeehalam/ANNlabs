{
 "cells": [
  {
   "cell_type": "code",
   "execution_count": null,
   "metadata": {
    "cellView": "form",
    "id": "3eI6DUic-6jo"
   },
   "outputs": [],
   "source": [
    "#@title TensorFlow\n",
    "# Copyright 2021 MIT 6.S191 Introduction to Deep Learning. All Rights Reserved.\n",
    "# \n",
    "# Licensed under the MIT License. You may not use this file except in compliance\n",
    "# with the License. Use and/or modification of this code outside of 6.S191 must\n",
    "# reference:\n",
    "#\n",
    "# © MIT 6.S191: Introduction to Deep Learning\n",
    "# http://introtodeeplearning.com\n",
    "#"
   ]
  },
  {
   "cell_type": "markdown",
   "metadata": {
    "id": "57knM8jrYZ2t"
   },
   "source": [
    "# Lab 1: Intro to TensorFlow\n",
    "\n",
    "In this lab, you'll get exposure to using TensorFlow and learn how it can be used for solving deep learning tasks. Go through the code and run each cell. Along the way, you'll encounter several ***TODO*** blocks -- follow the instructions to fill them out before running those cells and continuing.\n",
    "\n",
    "\n",
    "# Part 1: Intro to TensorFlow\n",
    "\n",
    "## 0.1 Install TensorFlow\n",
    "\n",
    "TensorFlow is a software library extensively used in machine learning. Here we'll learn how computations are represented and how to define a simple neural network in TensorFlow. For all the labs in 6.S191 2021, we'll be using the latest version of TensorFlow, TensorFlow 2, which affords great flexibility and the ability to imperatively execute operations, just like in Python. You'll notice that TensorFlow 2 is quite similar to Python in its syntax and imperative execution. Let's install TensorFlow and a couple of dependencies.\n"
   ]
  },
  {
   "cell_type": "code",
   "execution_count": 3,
   "metadata": {
    "colab": {
     "base_uri": "https://localhost:8080/"
    },
    "id": "LkaimNJfYZ2w",
    "outputId": "465c793b-b4f7-45d1-ea5a-6449b96b938a"
   },
   "outputs": [
    {
     "name": "stdout",
     "output_type": "stream",
     "text": [
      "Collecting mitdeeplearning\n",
      "  Downloading mitdeeplearning-0.2.0.tar.gz (2.1 MB)\n",
      "Requirement already satisfied: numpy in c:\\users\\dell\\.conda\\envs\\tensorflow\\lib\\site-packages (from mitdeeplearning) (1.19.1)\n",
      "Collecting regex\n",
      "  Downloading regex-2021.4.4-cp37-cp37m-win_amd64.whl (269 kB)\n",
      "Requirement already satisfied: tqdm in c:\\users\\dell\\.conda\\envs\\tensorflow\\lib\\site-packages (from mitdeeplearning) (4.60.0)\n",
      "Collecting gym\n",
      "  Downloading gym-0.18.0.tar.gz (1.6 MB)\n",
      "Requirement already satisfied: scipy in c:\\users\\dell\\.conda\\envs\\tensorflow\\lib\\site-packages (from gym->mitdeeplearning) (1.5.2)\n",
      "Collecting pyglet<=1.5.0,>=1.4.0\n",
      "  Downloading pyglet-1.5.0-py2.py3-none-any.whl (1.0 MB)\n",
      "Requirement already satisfied: Pillow<=7.2.0 in c:\\users\\dell\\.conda\\envs\\tensorflow\\lib\\site-packages (from gym->mitdeeplearning) (7.2.0)\n",
      "Requirement already satisfied: cloudpickle<1.7.0,>=1.2.0 in c:\\users\\dell\\.conda\\envs\\tensorflow\\lib\\site-packages (from gym->mitdeeplearning) (1.6.0)\n",
      "Requirement already satisfied: future in c:\\users\\dell\\.conda\\envs\\tensorflow\\lib\\site-packages (from pyglet<=1.5.0,>=1.4.0->gym->mitdeeplearning) (0.18.2)\n",
      "Building wheels for collected packages: mitdeeplearning, gym\n",
      "  Building wheel for mitdeeplearning (setup.py): started\n",
      "  Building wheel for mitdeeplearning (setup.py): finished with status 'done'\n",
      "  Created wheel for mitdeeplearning: filename=mitdeeplearning-0.2.0-py3-none-any.whl size=2115446 sha256=cd4e09684325523ccef2801e38e45fa88794fdb2232ac51df43f22298757fee2\n",
      "  Stored in directory: c:\\users\\dell\\appdata\\local\\pip\\cache\\wheels\\9a\\b9\\4f\\99b7c8c5c75355550b83e1fcfc02956fb40c35eb01e2262877\n",
      "  Building wheel for gym (setup.py): started\n",
      "  Building wheel for gym (setup.py): finished with status 'done'\n",
      "  Created wheel for gym: filename=gym-0.18.0-py3-none-any.whl size=1656453 sha256=bc98b6aa5619a92659b14a212802221b9f945b66dd00dd2dae33e5fe6b451938\n",
      "  Stored in directory: c:\\users\\dell\\appdata\\local\\pip\\cache\\wheels\\99\\f7\\e3\\d6f0f120ac047c1e5de2ae34930e7bf6e8de1c7a4d5fa68555\n",
      "Successfully built mitdeeplearning gym\n",
      "Installing collected packages: regex, pyglet, gym, mitdeeplearning\n",
      "Successfully installed gym-0.18.0 mitdeeplearning-0.2.0 pyglet-1.5.0 regex-2021.4.4\n"
     ]
    }
   ],
   "source": [
    "\n",
    "import tensorflow as tf\n",
    "\n",
    "# Download and import the MIT 6.S191 package\n",
    "!pip install mitdeeplearning\n",
    "import mitdeeplearning as mdl\n",
    "\n",
    "import numpy as np\n",
    "import matplotlib.pyplot as plt"
   ]
  },
  {
   "cell_type": "markdown",
   "metadata": {
    "id": "2QNMcdP4m3Vs"
   },
   "source": [
    "## 1.1 Why is TensorFlow called TensorFlow?\n",
    "\n",
    "TensorFlow is called 'TensorFlow' because it handles the flow (node/mathematical operation) of Tensors, which are data structures that you can think of as multi-dimensional arrays. Tensors are represented as n-dimensional arrays of base dataypes such as a string or integer -- they provide a way to generalize vectors and matrices to higher dimensions.\n",
    "\n",
    "The ```shape``` of a Tensor defines its number of dimensions and the size of each dimension. The ```rank``` of a Tensor provides the number of dimensions (n-dimensions) -- you can also think of this as the Tensor's order or degree.\n",
    "\n",
    "Let's first look at 0-d Tensors, of which a scalar is an example:"
   ]
  },
  {
   "cell_type": "code",
   "execution_count": 4,
   "metadata": {
    "colab": {
     "base_uri": "https://localhost:8080/"
    },
    "id": "tFxztZQInlAB",
    "outputId": "f2075089-0017-456f-a823-fa3169b2a5f6"
   },
   "outputs": [
    {
     "name": "stdout",
     "output_type": "stream",
     "text": [
      "`sport` is a 0-d Tensor\n",
      "`number` is a 0-d Tensor\n"
     ]
    }
   ],
   "source": [
    "sport = tf.constant(\"Tennis\", tf.string)\n",
    "number = tf.constant(1.41421356237, tf.float64)\n",
    "\n",
    "print(\"`sport` is a {}-d Tensor\".format(tf.rank(sport).numpy()))\n",
    "print(\"`number` is a {}-d Tensor\".format(tf.rank(number).numpy()))"
   ]
  },
  {
   "cell_type": "markdown",
   "metadata": {
    "id": "-dljcPUcoJZ6"
   },
   "source": [
    "Vectors and lists can be used to create 1-d Tensors:"
   ]
  },
  {
   "cell_type": "code",
   "execution_count": 5,
   "metadata": {
    "colab": {
     "base_uri": "https://localhost:8080/"
    },
    "id": "oaHXABe8oPcO",
    "outputId": "6d4061da-1978-49f3-d50e-f1910378ce9f"
   },
   "outputs": [
    {
     "name": "stdout",
     "output_type": "stream",
     "text": [
      "`sports` is a 1-d Tensor with shape: [2]\n",
      "`numbers` is a 1-d Tensor with shape: [3]\n"
     ]
    }
   ],
   "source": [
    "sports = tf.constant([\"Tennis\", \"Basketball\"], tf.string)\n",
    "numbers = tf.constant([3.141592, 1.414213, 2.71821], tf.float64)\n",
    "\n",
    "print(\"`sports` is a {}-d Tensor with shape: {}\".format(tf.rank(sports).numpy(), tf.shape(sports)))\n",
    "print(\"`numbers` is a {}-d Tensor with shape: {}\".format(tf.rank(numbers).numpy(), tf.shape(numbers)))"
   ]
  },
  {
   "cell_type": "markdown",
   "metadata": {
    "id": "gvffwkvtodLP"
   },
   "source": [
    "Next we consider creating 2-d (i.e., matrices) and higher-rank Tensors. For examples, in future labs involving image processing and computer vision, we will use 4-d Tensors. Here the dimensions correspond to the number of example images in our batch, image height, image width, and the number of color channels."
   ]
  },
  {
   "cell_type": "code",
   "execution_count": 6,
   "metadata": {
    "colab": {
     "base_uri": "https://localhost:8080/"
    },
    "id": "tFeBBe1IouS3",
    "outputId": "8fb35f9c-9972-4cec-a5a9-29ba50f05d6b"
   },
   "outputs": [
    {
     "name": "stdout",
     "output_type": "stream",
     "text": [
      "`matrix` is a 2-d Tensor with shape: [2 3]\n"
     ]
    }
   ],
   "source": [
    "### Defining higher-order Tensors ###\n",
    "\n",
    "'''TODO: Define a 2-d Tensor'''\n",
    "matrix = tf.constant([[3.141592, 1.414213, 2.71821],[3.141592, 1.414213, 2.71821]], tf.float64)\n",
    "\n",
    "assert isinstance(matrix, tf.Tensor), \"matrix must be a tf Tensor object\"\n",
    "assert tf.rank(matrix).numpy() == 2\n",
    "print(\"`matrix` is a {}-d Tensor with shape: {}\".format(tf.rank(matrix).numpy(), tf.shape(matrix)))"
   ]
  },
  {
   "cell_type": "code",
   "execution_count": 7,
   "metadata": {
    "id": "Zv1fTn_Ya_cz"
   },
   "outputs": [],
   "source": [
    "'''TODO: Define a 4-d Tensor.'''\n",
    "# Use tf.zeros to initialize a 4-d Tensor of zeros with size 10 x 256 x 256 x 3. \n",
    "#   You can think of this as 10 images where each image is RGB 256 x 256.\n",
    "images = tf.zeros(shape=(10,256,256,3))\n",
    "\n",
    "assert isinstance(images, tf.Tensor), \"matrix must be a tf Tensor object\"\n",
    "assert tf.rank(images).numpy() == 4, \"matrix must be of rank 4\"\n",
    "assert tf.shape(images).numpy().tolist() == [10, 256, 256, 3], \"matrix is incorrect shape\""
   ]
  },
  {
   "cell_type": "markdown",
   "metadata": {
    "id": "wkaCDOGapMyl"
   },
   "source": [
    "As you have seen, the ```shape``` of a Tensor provides the number of elements in each Tensor dimension. The ```shape``` is quite useful, and we'll use it often. You can also use slicing to access subtensors within a higher-rank Tensor:"
   ]
  },
  {
   "cell_type": "code",
   "execution_count": 9,
   "metadata": {
    "colab": {
     "base_uri": "https://localhost:8080/"
    },
    "id": "yjj4eF7eiYV8",
    "outputId": "c2326b84-7a3f-4553-dd94-54e279929a04"
   },
   "outputs": [
    {
     "data": {
      "text/plain": [
       "tensorflow.python.framework.ops.EagerTensor"
      ]
     },
     "execution_count": 9,
     "metadata": {},
     "output_type": "execute_result"
    }
   ],
   "source": [
    "type(matrix)"
   ]
  },
  {
   "cell_type": "code",
   "execution_count": 10,
   "metadata": {
    "colab": {
     "base_uri": "https://localhost:8080/"
    },
    "id": "FhaufyObuLEG",
    "outputId": "a5279db8-556a-4ea3-9f95-9abe766920b9"
   },
   "outputs": [
    {
     "name": "stdout",
     "output_type": "stream",
     "text": [
      "`row_vector`: [3.141592 1.414213 2.71821 ]\n",
      "`column_vector`: [2.71821 2.71821]\n",
      "`scalar`: 2.71821\n"
     ]
    }
   ],
   "source": [
    "row_vector = matrix[0]\n",
    "column_vector = matrix[:,2]\n",
    "scalar = matrix[1, 2]\n",
    "\n",
    "print(\"`row_vector`: {}\".format(row_vector.numpy()))\n",
    "print(\"`column_vector`: {}\".format(column_vector.numpy()))\n",
    "print(\"`scalar`: {}\".format(scalar.numpy()))"
   ]
  },
  {
   "cell_type": "markdown",
   "metadata": {
    "id": "iD3VO-LZYZ2z"
   },
   "source": [
    "## 1.2 Computations on Tensors\n",
    "\n",
    "A convenient way to think about and visualize computations in TensorFlow is in terms of graphs. We can define this graph in terms of Tensors, which hold data, and the mathematical operations that act on these Tensors in some order. Let's look at a simple example, and define this computation using TensorFlow:\n",
    "\n",
    "![alt text](https://raw.githubusercontent.com/aamini/introtodeeplearning/master/lab1/img/add-graph.png)"
   ]
  },
  {
   "cell_type": "code",
   "execution_count": 12,
   "metadata": {
    "colab": {
     "base_uri": "https://localhost:8080/"
    },
    "id": "X_YJrZsxYZ2z",
    "outputId": "d941f056-c3ae-4e0d-b23d-c43f14bc6ccb"
   },
   "outputs": [
    {
     "name": "stdout",
     "output_type": "stream",
     "text": [
      "tf.Tensor(76, shape=(), dtype=int32)\n",
      "tf.Tensor(76, shape=(), dtype=int32)\n"
     ]
    }
   ],
   "source": [
    "# Create the nodes in the graph, and initialize values\n",
    "a = tf.constant(15)\n",
    "b = tf.constant(61)\n",
    "\n",
    "# Add them!\n",
    "c1 = tf.add(a,b)\n",
    "c2 = a + b # TensorFlow overrides the \"+\" operation so that it is able to act on Tensors\n",
    "print(c1)\n",
    "print(c2)"
   ]
  },
  {
   "cell_type": "markdown",
   "metadata": {
    "id": "Mbfv_QOiYZ23"
   },
   "source": [
    "Notice how we've created a computation graph consisting of TensorFlow operations, and how  the output is a Tensor with value 76 -- we've just created a computation graph consisting of operations, and it's executed them and given us back the result.\n",
    "\n",
    "Now let's consider a slightly more complicated example:\n",
    "\n",
    "![alt text](https://raw.githubusercontent.com/aamini/introtodeeplearning/master/lab1/img/computation-graph.png)\n",
    "\n",
    "Here, we take two inputs, `a, b`, and compute an output `e`. Each node in the graph represents an operation that takes some input, does some computation, and passes its output to another node.\n",
    "\n",
    "Let's define a simple function in TensorFlow to construct this computation function:"
   ]
  },
  {
   "cell_type": "code",
   "execution_count": 13,
   "metadata": {
    "id": "PJnfzpWyYZ23",
    "scrolled": true
   },
   "outputs": [],
   "source": [
    "### Defining Tensor computations ###\n",
    "\n",
    "# Construct a simple computation function\n",
    "def func(a,b):\n",
    "  '''TODO: Define the operation for c, d, e (use tf.add, tf.subtract, tf.multiply).'''\n",
    "  c = a+b\n",
    "  d = b-1\n",
    "  e = c*d\n",
    "  return e"
   ]
  },
  {
   "cell_type": "markdown",
   "metadata": {
    "id": "AwrRfDMS2-oy"
   },
   "source": [
    "Now, we can call this function to execute the computation graph given some inputs `a,b`:"
   ]
  },
  {
   "cell_type": "code",
   "execution_count": 14,
   "metadata": {
    "id": "pnwsf8w2uF7p"
   },
   "outputs": [
    {
     "name": "stdout",
     "output_type": "stream",
     "text": [
      "6.0\n"
     ]
    }
   ],
   "source": [
    "# Consider example values for a,b\n",
    "a, b = 1.5, 2.5\n",
    "# Execute the computation\n",
    "e_out = func(a,b)\n",
    "print(e_out)"
   ]
  },
  {
   "cell_type": "markdown",
   "metadata": {
    "id": "6HqgUIUhYZ29"
   },
   "source": [
    "Notice how our output is a Tensor with value defined by the output of the computation, and that the output has no shape as it is a single scalar value."
   ]
  },
  {
   "cell_type": "markdown",
   "metadata": {
    "id": "1h4o9Bb0YZ29"
   },
   "source": [
    "## 1.3 Neural networks in TensorFlow\n",
    "We can also define neural networks in TensorFlow. TensorFlow uses a high-level API called [Keras](https://www.tensorflow.org/guide/keras) that provides a powerful, intuitive framework for building and training deep learning models.\n",
    "\n",
    "Let's first consider the example of a simple perceptron defined by just one dense layer: $ y = \\sigma(Wx + b)$, where $W$ represents a matrix of weights, $b$ is a bias, $x$ is the input, $\\sigma$ is the sigmoid activation function, and $y$ is the output. We can also visualize this operation using a graph: \n",
    "\n",
    "![alt text](https://raw.githubusercontent.com/aamini/introtodeeplearning/master/lab1/img/computation-graph-2.png)\n",
    "\n",
    "Tensors can flow through abstract types called [```Layers```](https://www.tensorflow.org/api_docs/python/tf/keras/layers/Layer) -- the building blocks of neural networks. ```Layers``` implement common neural networks operations, and are used to update weights, compute losses, and define inter-layer connectivity. We will first define a ```Layer``` to implement the simple perceptron defined above."
   ]
  },
  {
   "cell_type": "code",
   "execution_count": 17,
   "metadata": {
    "id": "HutbJk-1kHPh"
   },
   "outputs": [
    {
     "name": "stdout",
     "output_type": "stream",
     "text": [
      "[[0.2697859  0.45750418 0.66536945]]\n",
      "[PASS] test_custom_dense_layer_output\n"
     ]
    },
    {
     "data": {
      "text/plain": [
       "True"
      ]
     },
     "execution_count": 17,
     "metadata": {},
     "output_type": "execute_result"
    }
   ],
   "source": [
    "### Defining a network Layer ###\n",
    "\n",
    "# n_output_nodes: number of output nodes\n",
    "# input_shape: shape of the input\n",
    "# x: input to the layer\n",
    "\n",
    "class OurDenseLayer(tf.keras.layers.Layer):\n",
    "  def __init__(self, n_output_nodes):\n",
    "    super(OurDenseLayer, self).__init__()\n",
    "    self.n_output_nodes = n_output_nodes\n",
    "\n",
    "  def build(self, input_shape):  #      a=[1,2,3,4,5]  -->  a[-1]==5\n",
    "    d = int(input_shape[-1])\n",
    "    # Define and initialize parameters: a weight matrix W and bias b\n",
    "    # Note that parameter initialization is random!\n",
    "    self.W = self.add_weight(\"weight\", shape=[d, self.n_output_nodes]) # note the dimensionality\n",
    "    self.b = self.add_weight(\"bias\", shape=[1, self.n_output_nodes]) # note the dimensionality\n",
    "\n",
    "  def call(self, x):\n",
    "    '''TODO: define the operation for z (hint: use tf.matmul)'''\n",
    "    z = tf.add(tf.matmul(x,self.W),self.b)\n",
    "\n",
    "    '''TODO: define the operation for out (hint: use tf.sigmoid)'''\n",
    "    y = tf.sigmoid(z)\n",
    "    return y\n",
    "\n",
    "# Since layer parameters are initialized randomly, we will set a random seed for reproducibility\n",
    "tf.random.set_seed(1)\n",
    "layer = OurDenseLayer(3)\n",
    "layer.build((1,2))\n",
    "x_input = tf.constant([[1,2.]], shape=(1,2))\n",
    "y = layer.call(x_input)\n",
    "\n",
    "# test the output!\n",
    "print(y.numpy())\n",
    "mdl.lab1.test_custom_dense_layer_output(y)"
   ]
  },
  {
   "cell_type": "markdown",
   "metadata": {
    "id": "Jt1FgM7qYZ3D"
   },
   "source": [
    "Conveniently, TensorFlow has defined a number of ```Layers``` that are commonly used in neural networks, for example a [```Dense```](https://www.tensorflow.org/api_docs/python/tf/keras/layers/Dense?version=stable). Now, instead of using a single ```Layer``` to define our simple neural network, we'll use the  [`Sequential`](https://www.tensorflow.org/versions/r2.0/api_docs/python/tf/keras/Sequential) model from Keras and a single [`Dense` ](https://www.tensorflow.org/versions/r2.0/api_docs/python/tf/keras/layers/Dense) layer to define our network. With the `Sequential` API, you can readily create neural networks by stacking together layers like building blocks. "
   ]
  },
  {
   "cell_type": "code",
   "execution_count": 20,
   "metadata": {
    "id": "7WXTpmoL6TDz"
   },
   "outputs": [],
   "source": [
    "### Defining a neural network using the Sequential API ###\n",
    "\n",
    "# Import relevant packages\n",
    "from tensorflow.keras import Sequential\n",
    "from tensorflow.keras.layers import Dense\n",
    "\n",
    "# Define the number of outputs\n",
    "n_output_nodes = 3\n",
    "\n",
    "# First define the model \n",
    "model = Sequential()\n",
    "\n",
    "'''TODO: Define a dense (fully connected) layer to compute z'''\n",
    "# Remember: dense layers are defined by the parameters W and b!\n",
    "# You can read more about the initialization of W and b in the TF documentation :) \n",
    "# https://www.tensorflow.org/api_docs/python/tf/keras/layers/Dense?version=stable\n",
    "dense_layer = Dense(n_output_nodes, activation='sigmoid')\n",
    "\n",
    "# Add the dense layer to the model\n",
    "model.add(dense_layer)\n"
   ]
  },
  {
   "cell_type": "markdown",
   "metadata": {
    "id": "HDGcwYfUyR-U"
   },
   "source": [
    "That's it! We've defined our model using the Sequential API. Now, we can test it out using an example input:"
   ]
  },
  {
   "cell_type": "code",
   "execution_count": 21,
   "metadata": {
    "id": "sg23OczByRDb"
   },
   "outputs": [
    {
     "name": "stdout",
     "output_type": "stream",
     "text": [
      "[[0.5607363 0.6566898 0.1249697]]\n"
     ]
    }
   ],
   "source": [
    "# Test model with example input\n",
    "x_input = tf.constant([[1,2.]], shape=(1,2))\n",
    "\n",
    "'''TODO: feed input into the model and predict the output!'''\n",
    "model_output = model.predict(x_input)\n",
    "print(model_output)"
   ]
  },
  {
   "cell_type": "markdown",
   "metadata": {
    "id": "7V1dEqdk6VI5"
   },
   "source": [
    "Now that we have learned how to define `Layers` as well as neural networks in TensorFlow using the `Sequential` APIs, we're ready to turn our attention to actually implement neural networks."
   ]
  },
  {
   "cell_type": "markdown",
   "metadata": {
    "id": "rNz_IDJA6fNm"
   },
   "source": [
    "## Labwork\n",
    "Implement the Neural Network created in lab# 1 using TensorFlow library"
   ]
  },
  {
   "cell_type": "markdown",
   "metadata": {
    "id": "hS-ml2Vo9rfN"
   },
   "source": [
    "![image.png](data:image/png;base64,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)"
   ]
  },
  {
   "cell_type": "code",
   "execution_count": 24,
   "metadata": {
    "id": "IKlHTJWS4Swu"
   },
   "outputs": [],
   "source": [
    "model=Sequential()\n",
    "model.add(Dense(2, activation='relu', input_shape=(2,1)))\n",
    "model.add(Dense(2, activation='relu'))\n",
    "model.add(Dense(2, activation='sigmoid'))"
   ]
  },
  {
   "cell_type": "code",
   "execution_count": null,
   "metadata": {},
   "outputs": [],
   "source": []
  }
 ],
 "metadata": {
  "accelerator": "GPU",
  "colab": {
   "collapsed_sections": [],
   "name": "Lab2_EE-3064L.ipynb.ipynb",
   "provenance": []
  },
  "kernelspec": {
   "display_name": "Python 3",
   "language": "python",
   "name": "python3"
  },
  "language_info": {
   "codemirror_mode": {
    "name": "ipython",
    "version": 3
   },
   "file_extension": ".py",
   "mimetype": "text/x-python",
   "name": "python",
   "nbconvert_exporter": "python",
   "pygments_lexer": "ipython3",
   "version": "3.7.9"
  }
 },
 "nbformat": 4,
 "nbformat_minor": 1
}
